{
 "cells": [
  {
   "cell_type": "code",
   "execution_count": 1,
   "id": "66a88fe1-38fc-4f48-9ca9-3e2328392dc2",
   "metadata": {},
   "outputs": [],
   "source": [
    "import numpy as np\n",
    "import pandas as pd\n",
    "import matplotlib.pyplot as plt\n",
    "from datetime import datetime"
   ]
  },
  {
   "cell_type": "code",
   "execution_count": 2,
   "id": "ec4dc5a6-94c9-4178-8777-16cfe0ec541e",
   "metadata": {},
   "outputs": [
    {
     "name": "stdout",
     "output_type": "stream",
     "text": [
      "original array: [1 2 3 4]\n",
      "add 5: [6 7 8 9]\n",
      "multiply by 2 [2 4 6 8]\n",
      "square: [ 1  4  9 16]\n",
      "divide by 2 [0.5 1.  1.5 2. ]\n",
      "Loop time: 6.9500 seconds\n",
      "Vectorized time: 0.0441 seconds\n"
     ]
    }
   ],
   "source": [
    "#1. Numpy Operations\n",
    "#Create an array and perform elementwise operations\n",
    "arr= np.array([1,2,3,4])\n",
    "add_result = arr+5\n",
    "mul_result = arr*2\n",
    "pow_result = arr**2\n",
    "div_result = arr/2\n",
    "\n",
    "print(\"original array:\", arr)\n",
    "print(\"add 5:\",add_result)\n",
    "print(\"multiply by 2\", mul_result)\n",
    "print(\"square:\", pow_result)\n",
    "print(\"divide by 2\", div_result)\n",
    "#Compare loop vs vectorized execution\n",
    "import time\n",
    "size = 10_000_000\n",
    "a = np.random.rand(size)\n",
    "b = np.random.rand(size)\n",
    "\n",
    "# Loop version\n",
    "start = time.time()\n",
    "c_loop = np.zeros(size)\n",
    "for i in range(size):\n",
    "    c_loop[i] = a[i] + b[i]  \n",
    "end = time.time()\n",
    "print(f\"Loop time: {end - start:.4f} seconds\")\n",
    "\n",
    "# Vectorized version\n",
    "start = time.time()\n",
    "c_vec = a + b \n",
    "end = time.time()\n",
    "\n",
    "print(f\"Vectorized time: {end - start:.4f} seconds\")"
   ]
  },
  {
   "cell_type": "code",
   "execution_count": 3,
   "id": "fe0a5122-e756-4039-a0d6-d49c0d92a4de",
   "metadata": {
    "scrolled": true
   },
   "outputs": [
    {
     "name": "stdout",
     "output_type": "stream",
     "text": [
      "<class 'pandas.core.frame.DataFrame'>\n",
      "RangeIndex: 10 entries, 0 to 9\n",
      "Data columns (total 3 columns):\n",
      " #   Column    Non-Null Count  Dtype \n",
      "---  ------    --------------  ----- \n",
      " 0   category  10 non-null     object\n",
      " 1   value     10 non-null     int64 \n",
      " 2   date      10 non-null     object\n",
      "dtypes: int64(1), object(2)\n",
      "memory usage: 372.0+ bytes\n",
      "None\n",
      "  category  value        date\n",
      "0        A     10  2025-08-01\n",
      "1        B     15  2025-08-02\n",
      "2        A     12  2025-08-03\n",
      "3        B     18  2025-08-04\n",
      "4        C     25  2025-08-05\n"
     ]
    }
   ],
   "source": [
    "#2.Dataset Loading\n",
    "df = pd.read_csv(r\"C:\\Users\\27228\\bootcamp_Zimeng_He\\homework\\homework3\\data\\starter_data.csv\")\n",
    "print(df.info())\n",
    "print(df.head())"
   ]
  },
  {
   "cell_type": "code",
   "execution_count": 4,
   "id": "2096243e-f94d-4d45-bc67-9a6e38476a42",
   "metadata": {
    "scrolled": true
   },
   "outputs": [
    {
     "name": "stdout",
     "output_type": "stream",
     "text": [
      "           value\n",
      "count  10.000000\n",
      "mean   17.600000\n",
      "std     7.381659\n",
      "min    10.000000\n",
      "25%    12.250000\n",
      "50%    14.500000\n",
      "75%    23.250000\n",
      "max    30.000000\n",
      "              value\n",
      "category           \n",
      "A         11.500000\n",
      "B         15.666667\n",
      "C         27.666667\n"
     ]
    }
   ],
   "source": [
    "#3.Summary Statistics\n",
    "numeric_summary = df.describe()\n",
    "print(numeric_summary)\n",
    "\n",
    "grouped = df.groupby(\"category\").mean(numeric_only=True)\n",
    "print(grouped)"
   ]
  },
  {
   "cell_type": "code",
   "execution_count": 5,
   "id": "54429ae0-c1b6-4723-a5d7-177234206f59",
   "metadata": {},
   "outputs": [],
   "source": [
    "#4. Save Outputs\n",
    "numeric_summary.to_csv(r\"C:\\Users\\27228\\bootcamp_Zimeng_He\\homework\\homework3\\data\\processed\\summary.csv\")\n",
    "numeric_summary.to_json(r\"C:\\Users\\27228\\bootcamp_Zimeng_He\\homework\\homework3\\data\\processed\\summary.json\")"
   ]
  },
  {
   "cell_type": "code",
   "execution_count": 6,
   "id": "c13a32eb-33d9-4696-9fdc-263d3edd4c0d",
   "metadata": {},
   "outputs": [],
   "source": [
    "#5. Reusable Functions\n",
    "\n",
    "# Write at least one utility function\n",
    "def get_summary_stats(df, output_dir=r\"C:\\Users\\27228\\bootcamp_Zimeng_He\\homework\\homework3\\data\\processed\"):\n",
    "    \n",
    "    summary = df.describe()\n",
    "    summary_csv_path = os.path.join(output_dir, \"summary.csv\")\n",
    "    summary_json_path = os.path.join(output_dir, \"summary.json\")\n",
    "\n",
    "    summary.to_csv(summary_csv_path)\n",
    "    summary.to_json(summary_json_path)\n",
    "\n",
    "    print(\"Successfully saved\")\n"
   ]
  },
  {
   "cell_type": "code",
   "execution_count": null,
   "id": "2ffaedf6-bbdb-40e0-a06b-6ee5cacf94ea",
   "metadata": {},
   "outputs": [],
   "source": []
  }
 ],
 "metadata": {
  "kernelspec": {
   "display_name": "Python 3 (ipykernel)",
   "language": "python",
   "name": "python3"
  },
  "language_info": {
   "codemirror_mode": {
    "name": "ipython",
    "version": 3
   },
   "file_extension": ".py",
   "mimetype": "text/x-python",
   "name": "python",
   "nbconvert_exporter": "python",
   "pygments_lexer": "ipython3",
   "version": "3.11.7"
  }
 },
 "nbformat": 4,
 "nbformat_minor": 5
}
