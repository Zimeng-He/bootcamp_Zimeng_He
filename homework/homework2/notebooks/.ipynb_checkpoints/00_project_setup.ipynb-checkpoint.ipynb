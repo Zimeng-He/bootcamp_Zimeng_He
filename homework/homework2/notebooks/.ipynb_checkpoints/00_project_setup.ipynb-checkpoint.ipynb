{
 "cells": [
  {
   "cell_type": "markdown",
   "id": "66a6bc3e-1083-44d0-a7ed-ad91a14c3680",
   "metadata": {},
   "source": [
    "Environment & Config Check"
   ]
  },
  {
   "cell_type": "code",
   "execution_count": 2,
   "id": "00e5c33e-fa7c-4e79-8e06-5f212c11128f",
   "metadata": {},
   "outputs": [
    {
     "name": "stdout",
     "output_type": "stream",
     "text": [
      ".env loaded from C:\\Users\\27228\\bootcamp_Zimeng_He\\homework\\homework2\\.env (if present)\n",
      "API_KEY present: True\n",
      "DATA_DIR: ./data\n"
     ]
    }
   ],
   "source": [
    "import sys\n",
    "from pathlib import Path\n",
    "\n",
    "# 把项目根目录加入到 sys.path\n",
    "sys.path.append(str(Path(__file__).resolve().parents[1]))\n",
    "\n",
    "from src.config import load_env, get_key\n",
    "\n",
    "# Load .env\n",
    "load_env()\n",
    "\n",
    "# Access values\n",
    "api_key = get_key(\"API_KEY\")\n",
    "data_dir = get_key(\"DATA_DIR\")\n",
    "\n",
    "print(\"API_KEY present:\", api_key is not None)\n",
    "print(\"DATA_DIR:\", data_dir)\n"
   ]
  },
  {
   "cell_type": "code",
   "execution_count": null,
   "id": "c3f5c6d7-0fd1-414a-8cb2-2e1b2db2d2b4",
   "metadata": {},
   "outputs": [],
   "source": []
  }
 ],
 "metadata": {
  "kernelspec": {
   "display_name": "Python 3 (ipykernel)",
   "language": "python",
   "name": "python3"
  },
  "language_info": {
   "codemirror_mode": {
    "name": "ipython",
    "version": 3
   },
   "file_extension": ".py",
   "mimetype": "text/x-python",
   "name": "python",
   "nbconvert_exporter": "python",
   "pygments_lexer": "ipython3",
   "version": "3.11.7"
  }
 },
 "nbformat": 4,
 "nbformat_minor": 5
}
