{
 "cells": [
  {
   "cell_type": "markdown",
   "id": "409bc12f",
   "metadata": {},
   "source": [
    "# Stage 13 Homework Starter — Productization\n",
    "\n",
    "## Objective\n",
    "Deploy your trained model as a **reusable, handoff-ready API or dashboard** and finalize your project for reproducibility and clarity."
   ]
  },
  {
   "cell_type": "markdown",
   "id": "34a09e89",
   "metadata": {},
   "source": [
    "## Steps\n",
    "1. Create a mock, very basic analysis in a notebook.\n",
    "2. Clean your notebook by removing exploratory cells and documenting your code.\n",
    "3. Move reusable functions into `/src/`.\n",
    "4. Load your trained model from Stage 12 or earlier stages.\n",
    "5. Pickle/save the model and test reload.\n",
    "6. Implement **either**:\n",
    "   - Flask API with `/predict` endpoint and optional parameters\n",
    "   - Streamlit or Dash dashboard for user interaction\n",
    "7. Include:\n",
    "   - Error handling for invalid inputs\n",
    "   - `requirements.txt` for reproducibility\n",
    "   - Documentation in `README.md`\n",
    "8. Test your deployment locally and provide evidence.\n",
    "9. Organize project folders and finalize notebooks for handoff."
   ]
  },
  {
   "cell_type": "code",
   "execution_count": 6,
   "id": "8a7441ad-8c95-47b7-a9ab-c2a933431afa",
   "metadata": {},
   "outputs": [],
   "source": [
    "from pathlib import Path\n",
    "import os, pickle\n",
    "import numpy as np\n",
    "import pandas as pd\n",
    "import matplotlib.pyplot as plt\n",
    "\n",
    "from sklearn.datasets import make_regression\n",
    "from sklearn.linear_model import LinearRegression\n",
    "from sklearn.model_selection import train_test_split\n",
    "from sklearn.metrics import mean_squared_error, r2_score\n",
    "import joblib\n",
    "import sys\n",
    "sys.path.append(\"..\") "
   ]
  },
  {
   "cell_type": "markdown",
   "id": "8e003adc",
   "metadata": {},
   "source": [
    "## 1. Create mock, very basic analysis"
   ]
  },
  {
   "cell_type": "code",
   "execution_count": 2,
   "id": "88fadda7",
   "metadata": {
    "scrolled": true
   },
   "outputs": [
    {
     "name": "stdout",
     "output_type": "stream",
     "text": [
      "[Path] ROOT=C:\\Users\\27228\\bootcamp_Zimeng_He\\homework\\homework13\n",
      "[Path] MODEL_DIR=C:\\Users\\27228\\bootcamp_Zimeng_He\\homework\\homework13\\model\n",
      "[Path] REPORTS_DIR=C:\\Users\\27228\\bootcamp_Zimeng_He\\homework\\homework13\\reports\n",
      "[Metrics] RMSE = 0.303 | R² = 1.000\n",
      "[Saved] Plot -> C:\\Users\\27228\\bootcamp_Zimeng_He\\homework\\homework13\\reports\\true_vs_pred.png\n",
      "[Saved] Model -> C:\\Users\\27228\\bootcamp_Zimeng_He\\homework\\homework13\\model\\model.pkl\n",
      "[Reload check] Single prediction = 135.475\n"
     ]
    }
   ],
   "source": [
    "# detect project root (either current dir or parent if running from notebooks/)\n",
    "CWD = os.getcwd()\n",
    "if os.path.exists(os.path.join(CWD, \"model\")) and os.path.exists(os.path.join(CWD, \"data\")):\n",
    "    ROOT = CWD\n",
    "else:\n",
    "    ROOT = os.path.dirname(CWD)\n",
    "\n",
    "DATA_DIR = os.path.join(ROOT, \"data\")\n",
    "MODEL_DIR = os.path.join(ROOT, \"model\")\n",
    "REPORTS_DIR = os.path.join(ROOT, \"reports\")\n",
    "\n",
    "# make sure dirs exist\n",
    "for d in [DATA_DIR, MODEL_DIR, REPORTS_DIR]:\n",
    "    os.makedirs(d, exist_ok=True)\n",
    "\n",
    "print(f\"[Path] ROOT={ROOT}\")\n",
    "print(f\"[Path] MODEL_DIR={MODEL_DIR}\")\n",
    "print(f\"[Path] REPORTS_DIR={REPORTS_DIR}\")\n",
    "\n",
    "# generate synthetic data\n",
    "X, y = make_regression(n_samples=200, n_features=2, noise=0.3, random_state=42)\n",
    "df = pd.DataFrame(X, columns=[\"feature1\", \"feature2\"])\n",
    "df[\"target\"] = y\n",
    "\n",
    "#Drop duplicates + fill missing numeric values\n",
    "df = df.drop_duplicates().copy()\n",
    "for col in df.select_dtypes(include=\"number\").columns:\n",
    "    df[col] = df[col].fillna(df[col].mean())\n",
    "\n",
    "# add an interaction feature\n",
    "df[\"f1_x_f2\"] = df[\"feature1\"] * df[\"feature2\"]\n",
    "\n",
    "# Train/test split + model training \n",
    "X = df[[\"feature1\", \"feature2\", \"f1_x_f2\"]]\n",
    "y = df[\"target\"]\n",
    "X_train, X_test, y_train, y_test = train_test_split(\n",
    "    X, y, test_size=0.2, random_state=42\n",
    ")\n",
    "\n",
    "\n",
    "model = LinearRegression()\n",
    "model.fit(X_train, y_train)\n",
    "\n",
    "# Evaluation metrics\n",
    "preds = model.predict(X_test)\n",
    "rmse = mean_squared_error(y_test, preds, squared=False)\n",
    "r2 = r2_score(y_test, preds)\n",
    "print(f\"[Metrics] RMSE = {rmse:.3f} | R² = {r2:.3f}\")\n",
    "\n",
    "# Save a simple scatter plot (True vs Predicted) \n",
    "plt.figure()\n",
    "plt.scatter(y_test, preds, alpha=0.7)\n",
    "plt.xlabel(\"True\")\n",
    "plt.ylabel(\"Predicted\")\n",
    "plt.title(\"True vs Predicted (mock)\")\n",
    "line_min = float(min(y_test.min(), preds.min()))\n",
    "line_max = float(max(y_test.max(), preds.max()))\n",
    "plt.plot([line_min, line_max], [line_min, line_max], \"r--\")\n",
    "plot_path = os.path.join(REPORTS_DIR, \"true_vs_pred.png\")\n",
    "plt.savefig(plot_path, dpi=150, bbox_inches=\"tight\")\n",
    "plt.close()\n",
    "print(f\"[Saved] Plot -> {plot_path}\")\n",
    "\n",
    "# Save the model to disk \n",
    "model_path = os.path.join(MODEL_DIR, \"model.pkl\")\n",
    "joblib.dump(model, model_path)\n",
    "print(f\"[Saved] Model -> {model_path}\")\n",
    "\n",
    "# Reload model + single prediction \n",
    "reloaded = joblib.load(model_path)\n",
    "sample = pd.DataFrame([{\n",
    "    \"feature1\": 0.5,\n",
    "    \"feature2\": 4.2,\n",
    "    \"f1_x_f2\": 0.5 * 4.2\n",
    "}])\n",
    "sample_pred = reloaded.predict(sample)[0]\n",
    "print(f\"[Reload check] Single prediction = {sample_pred:.3f}\")\n"
   ]
  },
  {
   "cell_type": "markdown",
   "id": "a6810527",
   "metadata": {},
   "source": [
    "## 2. Notebook Cleanup\n",
    "Remove exploratory cells and document your code."
   ]
  },
  {
   "cell_type": "code",
   "execution_count": 3,
   "id": "0f8f7282",
   "metadata": {},
   "outputs": [
    {
     "name": "stdout",
     "output_type": "stream",
     "text": [
      "Notebook cleaned and ready for handoff.\n"
     ]
    }
   ],
   "source": [
    "# TODO: Remove exploratory cells\n",
    "# TODO: Document your code clearly\n",
    "# Example placeholder for cleaned analysis\n",
    "print(\"Notebook cleaned and ready for handoff.\")"
   ]
  },
  {
   "cell_type": "markdown",
   "id": "b5083b45",
   "metadata": {},
   "source": [
    "## 3. Move reusable functions to /src/\n",
    "Create src/utils.py and store functions there."
   ]
  },
  {
   "cell_type": "markdown",
   "id": "a17dfcb2",
   "metadata": {},
   "source": [
    "## 4. Folder Structure Reminder\n",
    "\n",
    "Ensure your project uses a clean folder structure:\n",
    "```\n",
    "project/\n",
    "  data/\n",
    "  notebooks/\n",
    "  src/\n",
    "  reports/\n",
    "  model/\n",
    "  README.md\n",
    "```\n",
    "For API/Dashboard: minimal example:\n",
    "```\n",
    "project/\n",
    "    app.py\n",
    "    model.pkl\n",
    "    requirements.txt\n",
    "    README.md\n",
    "```"
   ]
  },
  {
   "cell_type": "markdown",
   "id": "afc41c40",
   "metadata": {},
   "source": [
    "## 5. Pickle / Save Final Model\n",
    "\n",
    "### TODO: Replace this with your trained model"
   ]
  },
  {
   "cell_type": "code",
   "execution_count": 4,
   "id": "e8c36849",
   "metadata": {},
   "outputs": [
    {
     "name": "stdout",
     "output_type": "stream",
     "text": [
      "Model saved to model\\model.pkl\n"
     ]
    }
   ],
   "source": [
    "import pickle\n",
    "os.makedirs(\"model\", exist_ok=True)\n",
    "model_path = os.path.join(\"model\", \"model.pkl\")\n",
    "\n",
    "with open(model_path, \"wb\") as f:\n",
    "    pickle.dump(model, f)\n",
    "\n",
    "print(f\"Model saved to {model_path}\")"
   ]
  },
  {
   "cell_type": "markdown",
   "id": "78dd900a",
   "metadata": {},
   "source": [
    "## 6. Flask API Starter\n",
    "\n",
    "### TODO: Implement Flask endpoints for /predict and /plot"
   ]
  },
  {
   "cell_type": "code",
   "execution_count": 8,
   "id": "eea1dff2",
   "metadata": {},
   "outputs": [
    {
     "name": "stdout",
     "output_type": "stream",
     "text": [
      " * Serving Flask app '__main__'\n",
      " * Debug mode: on\n"
     ]
    },
    {
     "name": "stderr",
     "output_type": "stream",
     "text": [
      "WARNING: This is a development server. Do not use it in a production deployment. Use a production WSGI server instead.\n",
      " * Running on http://127.0.0.1:5000\n",
      "Press CTRL+C to quit\n",
      " * Restarting with watchdog (windowsapi)\n"
     ]
    },
    {
     "ename": "SystemExit",
     "evalue": "1",
     "output_type": "error",
     "traceback": [
      "An exception has occurred, use %tb to see the full traceback.\n",
      "\u001b[1;31mSystemExit\u001b[0m\u001b[1;31m:\u001b[0m 1\n"
     ]
    }
   ],
   "source": [
    "from flask import Flask, request, jsonify, Response\n",
    "import joblib, io\n",
    "import matplotlib.pyplot as plt\n",
    "import numpy as np\n",
    "import pandas as pd\n",
    "import os\n",
    "\n",
    "app = Flask(__name__)\n",
    "MODEL_PATH = os.path.join(\"model\", \"model.pkl\")\n",
    "\n",
    "# load model once before first request\n",
    "@app.before_first_request\n",
    "def load_model():\n",
    "    global model\n",
    "    model = joblib.load(MODEL_PATH)\n",
    "\n",
    "@app.route(\"/predict\", methods=[\"POST\"])\n",
    "def predict():\n",
    "    \"\"\"\n",
    "    Example: POST /predict\n",
    "    Body: {\"feature1\": 0.5, \"feature2\": 4.2}\n",
    "    \"\"\"\n",
    "    try:\n",
    "        data = request.get_json(force=True)\n",
    "        f1 = float(data[\"feature1\"])\n",
    "        f2 = float(data[\"feature2\"])\n",
    "        df = pd.DataFrame([{\"feature1\": f1, \"feature2\": f2, \"f1_x_f2\": f1 * f2}])\n",
    "        pred = model.predict(df)[0]\n",
    "        return jsonify({\"prediction\": float(pred)})\n",
    "    except Exception as e:\n",
    "        return jsonify({\"error\": str(e)}), 400\n",
    "\n",
    "@app.route(\"/plot\", methods=[\"GET\"])\n",
    "def plot():\n",
    "    # Simple sine curve for demo\n",
    "    x = np.linspace(0, 2*np.pi, 200)\n",
    "    y = np.sin(x)\n",
    "\n",
    "    fig, ax = plt.subplots()\n",
    "    ax.plot(x, y)\n",
    "    ax.set_title(\"Health Check Plot\")\n",
    "    buf = io.BytesIO()\n",
    "    fig.savefig(buf, format=\"png\")\n",
    "    plt.close(fig)\n",
    "    buf.seek(0)\n",
    "    return Response(buf.getvalue(), mimetype=\"image/png\")\n",
    "\n",
    "if __name__ == \"__main__\":\n",
    "    app.run(host=\"127.0.0.1\", port=5000, debug=True)\n",
    "\n"
   ]
  },
  {
   "cell_type": "markdown",
   "id": "781bb4ac",
   "metadata": {},
   "source": [
    "## 7. Testing the Flask API from Notebook\n",
    "\n",
    "### TODO: Modify examples with your actual features"
   ]
  },
  {
   "cell_type": "code",
   "execution_count": 11,
   "id": "1179a431",
   "metadata": {},
   "outputs": [
    {
     "name": "stdout",
     "output_type": "stream",
     "text": [
      "POST /predict: {'prediction': 135.47472387825084}\n",
      "GET /plot: 200 bytes: 26217\n"
     ]
    }
   ],
   "source": [
    "import requests\n",
    "\n",
    "base = \"http://127.0.0.1:5000\"\n",
    "\n",
    "# 1) Test POST /predict\n",
    "resp = requests.post(f\"{base}/predict\", json={\"feature1\": 0.5, \"feature2\": 4.2})\n",
    "print(\"POST /predict:\", resp.json())\n",
    "\n",
    "# 2) Test GET /plot\n",
    "resp = requests.get(f\"{base}/plot\")\n",
    "print(\"GET /plot:\", resp.status_code, \"bytes:\", len(resp.content))\n",
    "\n",
    "# Save returned plot as evidence\n",
    "os.chdir(\"..\") \n",
    "with open(\"reports/api_plot_check.png\", \"wb\") as f:\n",
    "    f.write(resp.content)\n"
   ]
  },
  {
   "cell_type": "markdown",
   "id": "3385613c",
   "metadata": {},
   "source": [
    "## 9. Handoff Best Practices\n",
    "\n",
    "- Ensure README.md is complete and clear\n",
    "- Provide `requirements.txt` for reproducibility\n",
    "- Ensure pickled model and scripts are in correct folders\n",
    "- Verify another user can run the project end-to-end on a fresh environment"
   ]
  }
 ],
 "metadata": {
  "kernelspec": {
   "display_name": "Python 3 (ipykernel)",
   "language": "python",
   "name": "python3"
  },
  "language_info": {
   "codemirror_mode": {
    "name": "ipython",
    "version": 3
   },
   "file_extension": ".py",
   "mimetype": "text/x-python",
   "name": "python",
   "nbconvert_exporter": "python",
   "pygments_lexer": "ipython3",
   "version": "3.11.7"
  }
 },
 "nbformat": 4,
 "nbformat_minor": 5
}
