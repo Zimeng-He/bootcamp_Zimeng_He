{
 "cells": [
  {
   "cell_type": "code",
   "execution_count": 1,
   "id": "18b2e536-8b8d-4266-a2f8-58e2f8f554c4",
   "metadata": {},
   "outputs": [
    {
     "name": "stdout",
     "output_type": "stream",
     "text": [
      "Loaded ALPHAVANTAGE_API_KEY? True\n"
     ]
    }
   ],
   "source": [
    "import os, json, time, datetime as dt, csv, pathlib\n",
    "from typing import Dict, List\n",
    "import requests\n",
    "import pandas as pd\n",
    "from bs4 import BeautifulSoup\n",
    "from dotenv import load_dotenv\n",
    "\n",
    "DATA_RAW = pathlib.Path(\"data/raw\")\n",
    "DATA_RAW.mkdir(parents=True, exist_ok=True)\n",
    "\n",
    "load_dotenv()\n",
    "ALPHA_KEY = os.getenv(\"ALPHAVANTAGE_API_KEY\")\n",
    "print(\"Loaded ALPHAVANTAGE_API_KEY?\", bool(ALPHA_KEY))"
   ]
  },
  {
   "cell_type": "code",
   "execution_count": 2,
   "id": "e67fd7e7-79ff-41c6-b79f-b99e9a2855ad",
   "metadata": {},
   "outputs": [],
   "source": [
    "def safe_stamp():\n",
    "    return dt.datetime.now().strftime(\"%Y%m%d-%H%M%S\")\n",
    "\n",
    "def safe_filename(prefix: str, meta: Dict[str, str]) -> str:\n",
    "    mid = \"_\".join([f\"{k}-{str(v).replace(' ', '-')[:20]}\" for k, v in meta.items()])\n",
    "    return f\"{prefix}_{mid}_{safe_stamp()}.csv\"\n",
    "\n",
    "def validate_df(df: pd.DataFrame, required_cols: List[str], dtypes_map: Dict[str, str]) -> Dict[str, str]:\n",
    "    msgs = {}\n",
    "    missing = [c for c in required_cols if c not in df.columns]\n",
    "    if missing:\n",
    "        msgs['missing_cols'] = f\"Missing columns: {missing}\"\n",
    "    for col, dtype in dtypes_map.items():\n",
    "        if col in df.columns:\n",
    "            try:\n",
    "                if dtype == 'datetime64[ns]':\n",
    "                    pd.to_datetime(df[col])\n",
    "                elif dtype == 'float':\n",
    "                    pd.to_numeric(df[col])\n",
    "            except Exception as e:\n",
    "                msgs[f'dtype_{col}'] = f\"Failed to coerce {col} to {dtype}: {e}\"\n",
    "    na_counts = df.isna().sum().sum()\n",
    "    msgs['na_total'] = f\"Total NA values: {na_counts}\"\n",
    "    return msgs"
   ]
  },
  {
   "cell_type": "code",
   "execution_count": 3,
   "id": "195a2a2c-f33c-4292-8eea-5458cacdccc0",
   "metadata": {},
   "outputs": [
    {
     "name": "stdout",
     "output_type": "stream",
     "text": [
      "Using Alpha Vantage: True\n",
      "{'missing_cols': \"Missing columns: ['adj_close']\", 'na_total': 'Total NA values: 0'}\n",
      "Saved: data\\raw\\api_source-alpha_symbol-AAPL_20250816-151123.csv\n"
     ]
    }
   ],
   "source": [
    "#API Pull\n",
    "SYMBOL = \"AAPL\"\n",
    "use_alpha = bool(ALPHA_KEY)\n",
    "print(\"Using Alpha Vantage:\", use_alpha)\n",
    "\n",
    "if use_alpha:\n",
    "    url = \"https://www.alphavantage.co/query\"\n",
    "    params = {\n",
    "        \"function\": \"TIME_SERIES_DAILY\",\n",
    "        \"symbol\": SYMBOL,\n",
    "        \"outputsize\": \"compact\",\n",
    "        \"apikey\": ALPHA_KEY,\n",
    "        \"datatype\": \"json\"\n",
    "    }\n",
    "    r = requests.get(url, params=params, timeout=30)\n",
    "    r.raise_for_status()\n",
    "    js = r.json()\n",
    "    key = [k for k in js.keys() if \"Time Series\" in k]\n",
    "    assert key, f\"Unexpected response keys: {list(js.keys())}\"\n",
    "    series = js[key[0]]\n",
    "    df_api = (pd.DataFrame(series).T\n",
    "              .rename_axis('date')\n",
    "              .reset_index())\n",
    "    # keep a couple columns and coerce types\n",
    "    df_api = df_api[['date', '4. close']].rename(columns={'4. close': 'close'})\n",
    "    df_api['date'] = pd.to_datetime(df_api['date'])\n",
    "    df_api['close'] = pd.to_numeric(df_api['close'])\n",
    "else:\n",
    "    import yfinance as yf\n",
    "    df_api = yf.download(SYMBOL, period=\"6mo\", interval=\"1d\").reset_index()[['Date','Adj Close']]\n",
    "    df_api.columns = ['date','adj_close']\n",
    "\n",
    "df_api = df_api.sort_values('date').reset_index(drop=True)\n",
    "msgs = validate_df(df_api, required_cols=['date','adj_close'], dtypes_map={'date':'datetime64[ns]','adj_close':'float'})\n",
    "print(msgs)\n",
    "\n",
    "fname = safe_filename(prefix=\"api\", meta={\"source\": \"alpha\" if use_alpha else \"yfinance\", \"symbol\": SYMBOL})\n",
    "out_path = DATA_RAW / fname\n",
    "df_api.to_csv(out_path, index=False)\n",
    "print(\"Saved:\", out_path)"
   ]
  },
  {
   "cell_type": "code",
   "execution_count": 11,
   "id": "579d6905-f493-4f04-98a6-5cc051878b44",
   "metadata": {},
   "outputs": [
    {
     "name": "stdout",
     "output_type": "stream",
     "text": [
      "{'na_total': 'Total NA values: 0'}\n",
      "Saved: data\\raw\\scrape_site-example_table-markets_20250816-155033.csv\n"
     ]
    }
   ],
   "source": [
    "#Scrape a Small Table\n",
    "SCRAPE_URL = \"https://en.wikipedia.org/wiki/Dow_Jones_Industrial_Average\"  \n",
    "headers = {\"User-Agent\": \"AFE-Course-Notebook/1.0 (contact: zh3289@nyu.edu)\"}\n",
    "try:\n",
    "    resp = requests.get(SCRAPE_URL, headers=headers, timeout=30)\n",
    "    resp.raise_for_status()\n",
    "    soup = BeautifulSoup(resp.text, 'html.parser')\n",
    "    tables = soup.find_all(\"table\", {\"class\": \"wikitable\"})\n",
    "    # find tables whose caption contains \"Components\" \n",
    "    target_table = None\n",
    "    for t in tables:\n",
    "        caption = t.find(\"caption\")\n",
    "        if caption and \"component\" in caption.get_text():\n",
    "            target_table = t\n",
    "            break\n",
    "    if target_table is None:\n",
    "        raise ValueError(\"Could not find the component table on the page!\")\n",
    "    rows = []\n",
    "    for tr in target_table.find_all('tr'):\n",
    "        cells = [td.get_text(strip=True) for td in tr.find_all(['td','th'])]\n",
    "        if cells:\n",
    "            rows.append(cells)\n",
    "    # assume first row is header\n",
    "    header, *data = rows\n",
    "    df_scrape = pd.DataFrame(data, columns=header)\n",
    "except Exception as e:\n",
    "    print(\"Scrape failed (demoing with inline HTML).\", e)\n",
    "    html = \"\"\"\n",
    "    <table>\n",
    "      <tr><th>Ticker</th><th>Price</th></tr>\n",
    "      <tr><td>AAA</td><td>101.2</td></tr>\n",
    "      <tr><td>BBB</td><td>98.7</td></tr>\n",
    "    </table>\n",
    "    \"\"\"\n",
    "    soup = BeautifulSoup(html, 'html.parser')\n",
    "    rows = []\n",
    "    for tr in soup.find_all('tr'):\n",
    "        cells = [td.get_text(strip=True) for td in tr.find_all(['td','th'])]\n",
    "        if cells:\n",
    "            rows.append(cells)\n",
    "    header, *data = rows\n",
    "    df_scrape = pd.DataFrame(data, columns=header)\n",
    "\n",
    "if 'Price' in df_scrape.columns:\n",
    "    df_scrape['Price'] = pd.to_numeric(df_scrape['Price'], errors='coerce')\n",
    "\n",
    "msgs2 = validate_df(df_scrape, required_cols=list(df_scrape.columns), dtypes_map={})\n",
    "print(msgs2)\n",
    "\n",
    "fname2 = safe_filename(prefix=\"scrape\", meta={\"site\": \"example\", \"table\": \"markets\"})\n",
    "out_path2 = DATA_RAW / fname2\n",
    "df_scrape.to_csv(out_path2, index=False)\n",
    "print(\"Saved:\", out_path2)"
   ]
  },
  {
   "cell_type": "code",
   "execution_count": null,
   "id": "e1b5d9a8-f37b-4a00-8906-d71925536f1d",
   "metadata": {},
   "outputs": [],
   "source": []
  }
 ],
 "metadata": {
  "kernelspec": {
   "display_name": "Python 3 (ipykernel)",
   "language": "python",
   "name": "python3"
  },
  "language_info": {
   "codemirror_mode": {
    "name": "ipython",
    "version": 3
   },
   "file_extension": ".py",
   "mimetype": "text/x-python",
   "name": "python",
   "nbconvert_exporter": "python",
   "pygments_lexer": "ipython3",
   "version": "3.11.7"
  }
 },
 "nbformat": 4,
 "nbformat_minor": 5
}
